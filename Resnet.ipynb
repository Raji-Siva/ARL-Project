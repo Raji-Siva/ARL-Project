{
  "nbformat": 4,
  "nbformat_minor": 0,
  "metadata": {
    "colab": {
      "name": "Untitled4.ipynb",
      "provenance": [],
      "authorship_tag": "ABX9TyOxsqSS3k+SoeApQODFBkIF",
      "include_colab_link": true
    },
    "kernelspec": {
      "name": "python3",
      "display_name": "Python 3"
    }
  },
  "cells": [
    {
      "cell_type": "markdown",
      "metadata": {
        "id": "view-in-github",
        "colab_type": "text"
      },
      "source": [
        "<a href=\"https://colab.research.google.com/github/Raji-Siva/ARL-Project/blob/master/Resnet.ipynb\" target=\"_parent\"><img src=\"https://colab.research.google.com/assets/colab-badge.svg\" alt=\"Open In Colab\"/></a>"
      ]
    },
    {
      "cell_type": "code",
      "metadata": {
        "id": "QGxI521IRX0Q",
        "colab_type": "code",
        "colab": {}
      },
      "source": [
        "from google.colab import drive \n",
        "drive.mount('/content/gdrive')"
      ],
      "execution_count": 0,
      "outputs": []
    },
    {
      "cell_type": "code",
      "metadata": {
        "id": "Ug0lABiLVSb4",
        "colab_type": "code",
        "colab": {}
      },
      "source": [
        "from tensorflow.keras.models import load_model\n",
        "import numpy as np"
      ],
      "execution_count": 0,
      "outputs": []
    },
    {
      "cell_type": "code",
      "metadata": {
        "id": "OpUBpjNxVZeY",
        "colab_type": "code",
        "colab": {
          "base_uri": "https://localhost:8080/",
          "height": 246
        },
        "outputId": "b2cab1d8-65e8-4b2f-dd92-69c5da7a5321"
      },
      "source": [
        "model_name = 'resnet50_batch64_sgd01m001'\n",
        "eval_model = load_model('/content/gdrive/My Drive/saved_model/' + model_name + '.h5')\n",
        "eval_model.summary()"
      ],
      "execution_count": 12,
      "outputs": [
        {
          "output_type": "stream",
          "text": [
            "WARNING:tensorflow:Error in loading the saved optimizer state. As a result, your model is starting with a freshly initialized optimizer.\n",
            "Model: \"sequential\"\n",
            "_________________________________________________________________\n",
            "Layer (type)                 Output Shape              Param #   \n",
            "=================================================================\n",
            "resnet50 (Model)             (None, 2048)              23587712  \n",
            "_________________________________________________________________\n",
            "dense (Dense)                (None, 6)                 12294     \n",
            "=================================================================\n",
            "Total params: 23,600,006\n",
            "Trainable params: 12,294\n",
            "Non-trainable params: 23,587,712\n",
            "_________________________________________________________________\n"
          ],
          "name": "stdout"
        }
      ]
    },
    {
      "cell_type": "code",
      "metadata": {
        "id": "sf-u_aUGVflH",
        "colab_type": "code",
        "colab": {}
      },
      "source": [
        ""
      ],
      "execution_count": 0,
      "outputs": []
    },
    {
      "cell_type": "code",
      "metadata": {
        "id": "1Z6c4PpoTHd6",
        "colab_type": "code",
        "colab": {}
      },
      "source": [
        "from IPython.display import display, Javascript\n",
        "from google.colab.output import eval_js\n",
        "from base64 import b64decode\n",
        "\n",
        "def take_photo(filename='photo.jpg', quality=0.8):\n",
        "  js = Javascript('''\n",
        "    async function takePhoto(quality) {\n",
        "      const div = document.createElement('div');\n",
        "      const capture = document.createElement('button');\n",
        "      capture.textContent = 'Capture';\n",
        "      div.appendChild(capture);\n",
        "\n",
        "      const video = document.createElement('video');\n",
        "      video.style.display = 'block';\n",
        "      const stream = await navigator.mediaDevices.getUserMedia({video: true});\n",
        "\n",
        "      document.body.appendChild(div);\n",
        "      div.appendChild(video);\n",
        "      video.srcObject = stream;\n",
        "      await video.play();\n",
        "\n",
        "      // Resize the output to fit the video element.\n",
        "      google.colab.output.setIframeHeight(document.documentElement.scrollHeight, true);\n",
        "      let jsLog = function(abc) {\n",
        "        document.querySelector(\"#output-area\").appendChild(document.createTextNode(`${abc}... `));\n",
        "      }\n",
        "\n",
        "      // Wait for Capture to be clicked.\n",
        "      for (let i = 0; i < 5; i++) {\n",
        "        const canvas = document.createElement('canvas');\n",
        "        canvas.width = video.videoWidth;\n",
        "        canvas.height = video.videoHeight;\n",
        "        canvas.getContext('2d').drawImage(video, 0, 0);\n",
        "        img = canvas.toDataURL('image/jpeg', quality);\n",
        "\n",
        "        // show each captured image\n",
        "        // let imgTag = document.createElement('img');\n",
        "        // imgTag.src = img;\n",
        "        // div.appendChild(imgTag);\n",
        "\n",
        "        jsLog(i + \"sending\")\n",
        "        // Call a python function and send this image\n",
        "        google.colab.kernel.invokeFunction('notebook.run_algo', [img], {});\n",
        "        jsLog(i + \"SENT\")\n",
        "\n",
        "        // wait for X miliseconds second, before next capture\n",
        "        await new Promise(resolve => setTimeout(resolve, 250));\n",
        "      }\n",
        "      stream.getVideoTracks()[0].stop();\n",
        "    }\n",
        "    ''')\n",
        "  display(js)\n",
        "  data = eval_js('takePhoto({})'.format(quality))\n",
        "  #binary = b64decode(data.split(',')[1])\n",
        "  #with open(filename, 'wb') as f:\n",
        "  #  f.write(binary)\n",
        "  #return filename"
      ],
      "execution_count": 0,
      "outputs": []
    },
    {
      "cell_type": "code",
      "metadata": {
        "id": "g-6dgE9AU8w-",
        "colab_type": "code",
        "colab": {
          "base_uri": "https://localhost:8080/",
          "height": 712
        },
        "outputId": "fc629e4e-b510-4843-d4ac-055b3b4630a3"
      },
      "source": [
        "import IPython\n",
        "from google.colab import output\n",
        "from google.colab.patches import cv2_imshow\n",
        "\n",
        "import time\n",
        "import sys\n",
        "import numpy as np\n",
        "import cv2\n",
        "\n",
        "\n",
        "\n",
        "\n",
        "def data_uri_to_img(uri):\n",
        "  \"\"\"convert base64image to numpy array\"\"\"\n",
        "  try:\n",
        "    image = base64.b64decode(uri.split(',')[1], validate=True)\n",
        "    # make the binary image, a PIL image\n",
        "    image = Image.open(BytesIO(image))\n",
        "    # convert to numpy array\n",
        "    image = np.array(image, dtype=np.uint8); \n",
        "    return image\n",
        "  except Exception as e:\n",
        "    logging.exception(e);print('\\n')\n",
        "    return None\n",
        "\n",
        "def run_algo(imgB64):\n",
        "  \"\"\"\n",
        "  in Colab, run_algo function gets invoked by the JavaScript, that sends N images every second\n",
        "\n",
        "  params:\n",
        "    image: image\n",
        "  \"\"\"\n",
        "  image = data_uri_to_img(imgB64)  \n",
        "  if image is None:\n",
        "    print(\"At run_algo(): image is None.\")\n",
        "    return\n",
        "\n",
        "  try:\n",
        "    # Run detection\n",
        "    y_pred = eval_model.predict(image[np.newaxis, ...])\n",
        "    print(np.argmax(y_pred[0][0], axis=-1))\n",
        "    print(y_pred.shape)\n",
        "    # Visualize results\n",
        "    #r = results[0]\n",
        "    #visualize.display_instances(image, r['rois'], r['masks'], r['class_ids'], class_names, r['scores'])\n",
        "\n",
        "  except Exception as e:\n",
        "    logging.exception(e)\n",
        "    print('\\n')\n",
        "\n",
        "# register this function, so JS code could call this\n",
        "output.register_callback('notebook.run_algo', run_algo)\n",
        "\n",
        "# put the JS code in cell and run it\n",
        "take_photo()"
      ],
      "execution_count": 19,
      "outputs": [
        {
          "output_type": "display_data",
          "data": {
            "application/javascript": [
              "\n",
              "    async function takePhoto(quality) {\n",
              "      const div = document.createElement('div');\n",
              "      const capture = document.createElement('button');\n",
              "      capture.textContent = 'Capture';\n",
              "      div.appendChild(capture);\n",
              "\n",
              "      const video = document.createElement('video');\n",
              "      video.style.display = 'block';\n",
              "      const stream = await navigator.mediaDevices.getUserMedia({video: true});\n",
              "\n",
              "      document.body.appendChild(div);\n",
              "      div.appendChild(video);\n",
              "      video.srcObject = stream;\n",
              "      await video.play();\n",
              "\n",
              "      // Resize the output to fit the video element.\n",
              "      google.colab.output.setIframeHeight(document.documentElement.scrollHeight, true);\n",
              "      let jsLog = function(abc) {\n",
              "        document.querySelector(\"#output-area\").appendChild(document.createTextNode(`${abc}... `));\n",
              "      }\n",
              "\n",
              "      // Wait for Capture to be clicked.\n",
              "      for (let i = 0; i < 5; i++) {\n",
              "        const canvas = document.createElement('canvas');\n",
              "        canvas.width = video.videoWidth;\n",
              "        canvas.height = video.videoHeight;\n",
              "        canvas.getContext('2d').drawImage(video, 0, 0);\n",
              "        img = canvas.toDataURL('image/jpeg', quality);\n",
              "\n",
              "        // show each captured image\n",
              "        // let imgTag = document.createElement('img');\n",
              "        // imgTag.src = img;\n",
              "        // div.appendChild(imgTag);\n",
              "\n",
              "        jsLog(i + \"sending\")\n",
              "        // Call a python function and send this image\n",
              "        google.colab.kernel.invokeFunction('notebook.run_algo', [img], {});\n",
              "        jsLog(i + \"SENT\")\n",
              "\n",
              "        // wait for X miliseconds second, before next capture\n",
              "        await new Promise(resolve => setTimeout(resolve, 250));\n",
              "      }\n",
              "      stream.getVideoTracks()[0].stop();\n",
              "    }\n",
              "    "
            ],
            "text/plain": [
              "<IPython.core.display.Javascript object>"
            ]
          },
          "metadata": {
            "tags": []
          }
        },
        {
          "output_type": "stream",
          "text": [
            "0\n",
            "(1, 6)\n",
            "0\n",
            "(1, 6)\n",
            "0\n",
            "(1, 6)\n",
            "0\n",
            "(1, 6)\n",
            "0\n",
            "(1, 6)\n"
          ],
          "name": "stdout"
        }
      ]
    }
  ]
}